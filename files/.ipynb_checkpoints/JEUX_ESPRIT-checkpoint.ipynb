{
 "cells": [
  {
   "cell_type": "markdown",
   "id": "68f801a8",
   "metadata": {},
   "source": [
    "## Ceci est la creation de l'application jeux d'esprit "
   ]
  },
  {
   "cell_type": "code",
   "execution_count": 100,
   "id": "f47c2651",
   "metadata": {},
   "outputs": [],
   "source": [
    "from tkinter import *\n",
    "#cette application qui est une application pour le jeux d'esprit"
   ]
  },
  {
   "cell_type": "code",
   "execution_count": 381,
   "id": "6fd64c7a",
   "metadata": {},
   "outputs": [],
   "source": [
    "class JEUX:\n",
    "    def __init__(self):\n",
    "        self.root = first\n",
    "        self.game_logo()\n",
    "        self.instructions()\n",
    "    def game_logo(self):\n",
    "        logo = PhotoImage(file = 'logo.png')\n",
    "        label_logo = Label(image = logo)\n",
    "        label_logo.image = logo\n",
    "        label_logo.grid(row = 0 , padx = 275 , pady = 50 , sticky = W)\n",
    "    def instructions(self):\n",
    "        nom_joueurs = Label(self.root , text = 'Saisissez le nom des Equipes ainsi que des Joueurs', font = ('Cambria',20),bg = 'green',fg ='white')\n",
    "        nom_joueurs.grid(row = 1 , column = 0 , pady = 4 , sticky = W , padx = 100 )\n",
    "        equipeA = Label(self.root , text = 'Equipe A:' , font = ('cambria' ,30 , 'bold'))\n",
    "        equipeA.grid(row = 2, column = 0 , sticky = W , pady = 40 , padx = 0)\n",
    "        champA = Entry(self.root , width = 8 , font = ('Calibri',15,'bold'))\n",
    "        champA.grid(row = 2 ,padx = 190 , sticky = W )\n",
    "        joueurA = Label(self.root , text = 'Joueurs:' , font = ('calibri' ,30 , 'bold'))\n",
    "        joueurA.grid(row = 2, sticky = W , pady = 40 , padx = 300)\n",
    "        champ_joueurs_A = Entry(self.root , width = 30 , font = ('Calibri',15,'bold'))\n",
    "        champ_joueurs_A.grid(row = 2 ,padx = 450 , sticky = W  )\n",
    "        equipeB = Label(self.root , text = 'Equipe B:' , font = ('cambria' ,30 , 'bold'))\n",
    "        equipeB.grid(row = 3, column = 0 , sticky = W , pady = 40 , padx = 0)\n",
    "        champB = Entry(self.root , width = 8 , font = (('Calibri',15,'bold')))\n",
    "        champB.grid(row = 3 ,padx = 190 , sticky = W )\n",
    "        joueurB = Label(self.root , text = 'Joueurs:' , font = ('calibri' ,30 , 'bold'))\n",
    "        joueurB.grid(row = 3, sticky = W , pady = 40 , padx = 300)\n",
    "        champ_joueurs_B = Entry(self.root , width = 30 , font = ('Calibri',15,'bold'))\n",
    "        champ_joueurs_B.grid(row = 3 ,padx = 450 , sticky = W)\n",
    "        valider = Button(self.root , text = 'Valider les Entree' , font = ('calibri','18','italic'),bg = 'green' , fg = 'white')\n",
    "        valider.grid( sticky = W , padx = 280)"
   ]
  },
  {
   "cell_type": "code",
   "execution_count": 384,
   "id": "fce18f40",
   "metadata": {},
   "outputs": [],
   "source": [
    "if __name__ == '__main__':\n",
    "    first = Tk()\n",
    "    first.title(\"Jeux d'Esprit\")\n",
    "    first.geometry(\"800x600\")\n",
    "    #first.configure(background=\"#47c4a5\")\n",
    "    #root.minsize(width=500,height=100)\n",
    "    first.resizable(width=False,height=False)\n",
    "    application = JEUX()\n",
    "    first.mainloop()"
   ]
  },
  {
   "cell_type": "code",
   "execution_count": null,
   "id": "a2f38b7a",
   "metadata": {},
   "outputs": [],
   "source": []
  },
  {
   "cell_type": "code",
   "execution_count": null,
   "id": "89bf2e00",
   "metadata": {},
   "outputs": [],
   "source": []
  }
 ],
 "metadata": {
  "kernelspec": {
   "display_name": "Python 3 (ipykernel)",
   "language": "python",
   "name": "python3"
  },
  "language_info": {
   "codemirror_mode": {
    "name": "ipython",
    "version": 3
   },
   "file_extension": ".py",
   "mimetype": "text/x-python",
   "name": "python",
   "nbconvert_exporter": "python",
   "pygments_lexer": "ipython3",
   "version": "3.9.1"
  }
 },
 "nbformat": 4,
 "nbformat_minor": 5
}
